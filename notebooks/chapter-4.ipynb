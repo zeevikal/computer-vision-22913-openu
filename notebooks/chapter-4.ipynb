{
 "cells": [
  {
   "cell_type": "code",
   "execution_count": 1,
   "metadata": {
    "ExecuteTime": {
     "end_time": "2019-01-10T15:01:21.947610Z",
     "start_time": "2019-01-10T15:01:21.943649Z"
    }
   },
   "outputs": [],
   "source": [
    "# https://github.com/aleju/imgaug\n",
    "# This python library helps you with augmenting images for your machine learning projects.\n",
    "# It converts a set of input images into a new, much larger set of slightly altered images."
   ]
  },
  {
   "cell_type": "code",
   "execution_count": null,
   "metadata": {},
   "outputs": [],
   "source": []
  }
 ],
 "metadata": {
  "kernelspec": {
   "display_name": "Python 3",
   "language": "python",
   "name": "python3"
  },
  "language_info": {
   "codemirror_mode": {
    "name": "ipython",
    "version": 3
   },
   "file_extension": ".py",
   "mimetype": "text/x-python",
   "name": "python",
   "nbconvert_exporter": "python",
   "pygments_lexer": "ipython3",
   "version": "3.6.5"
  }
 },
 "nbformat": 4,
 "nbformat_minor": 2
}
